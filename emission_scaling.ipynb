{
 "metadata": {
  "name": "",
  "signature": "sha256:e27e12b536b158e66da74e9b1de6206c404c938ac7c95ea9002f667470913ea5"
 },
 "nbformat": 3,
 "nbformat_minor": 0,
 "worksheets": [
  {
   "cells": [
    {
     "cell_type": "heading",
     "level": 1,
     "metadata": {},
     "source": [
      "Carbon Emissions for U.S. Cities"
     ]
    },
    {
     "cell_type": "markdown",
     "metadata": {},
     "source": [
      "This is a project to correlate the levels of greenhouse gas emissions for US cities with various other urban demographics such as population and density. Three primary data sources were used:\n",
      "\n",
      "* Emissions data for the U.S. was obtained from the [Vulcan Project](http://vulcan.project.asu.edu/research.php).\n",
      "* Decennial census data was downloaded from [SocialExplorer](http://www.socialexplorer.com/explore/tables).\n",
      "* The table containing counties for each MSA was obtained form the [Bureau of Economic Analysis](http://www.bea.gov/regional/docs/msalist.cfm \"Statistical Areas\")\n",
      "    \n",
      " \n",
      "\n"
     ]
    },
    {
     "cell_type": "code",
     "collapsed": false,
     "input": [
      "import pandas as pd\n",
      "import numpy as np\n",
      "import matplotlib.pyplot as plt\n",
      "from collections import defaultdict\n",
      "import statsmodels.api as sm\n",
      "from scipy.stats.stats import pearsonr\n",
      "from operator import itemgetter\n",
      "import string\n",
      "%matplotlib inline"
     ],
     "language": "python",
     "metadata": {},
     "outputs": [],
     "prompt_number": 1
    },
    {
     "cell_type": "code",
     "collapsed": false,
     "input": [
      "emissionFile = 'C:/Users/Christopher/Desktop/assignment4_data/counties_emissions_2002.csv'\n",
      "censusFile = 'C:/Users/Christopher/Desktop/assignment4_data/counties_census_2000.csv'\n",
      "msaFile = 'C:/Users/Christopher/Desktop/assignment4_data/msalist.csv'\n",
      "\n",
      "censusData = pd.read_csv(censusFile)\n",
      "emissionData = pd.read_csv(emissionFile)\n",
      "msaData = pd.read_csv(msaFile)"
     ],
     "language": "python",
     "metadata": {},
     "outputs": [],
     "prompt_number": 2
    },
    {
     "cell_type": "code",
     "collapsed": false,
     "input": [
      "print(len(censusData), len(emissionData), len(msaData))"
     ],
     "language": "python",
     "metadata": {},
     "outputs": [
      {
       "output_type": "stream",
       "stream": "stdout",
       "text": [
        "(3219, 3142, 1147)\n"
       ]
      }
     ],
     "prompt_number": 3
    },
    {
     "cell_type": "markdown",
     "metadata": {},
     "source": [
      "### Data Cleaning\n",
      "\n",
      "Initial processing was done in OpenOffice for simplicity.\n",
      "\n",
      "#### Vulcan Data\n",
      "\n",
      "* The columns \"County\" and \"FIPS\" had leading whitespace deleted. \n",
      "* \"Total\" was changed to \"Total Emissions\"\n",
      "\n",
      "#### Census Data\n",
      "\n",
      "* Column \"County\" was deleted because it is unnecessary and conflicted with the \"County\" column in the vulcan data.\n"
     ]
    },
    {
     "cell_type": "heading",
     "level": 4,
     "metadata": {},
     "source": [
      "Join the Census and Vulcan Data on FIPS"
     ]
    },
    {
     "cell_type": "code",
     "collapsed": false,
     "input": [
      "comboData = censusData.merge(emissionData, how='inner')\n",
      "toDelete = ['Total Population.1','Total Population.2','Unnamed: 4','State (FIPS)']\n",
      "for d in toDelete:\n",
      "    del comboData[d]\n",
      "comboData = comboData.dropna()"
     ],
     "language": "python",
     "metadata": {},
     "outputs": [],
     "prompt_number": 4
    },
    {
     "cell_type": "heading",
     "level": 4,
     "metadata": {},
     "source": [
      "Display included attributes for testing purposes."
     ]
    },
    {
     "cell_type": "code",
     "collapsed": false,
     "input": [
      "print(len(comboData))\n",
      "# for row in comboData[:1].iterrows():\n",
      "#     row = row[1]\n",
      "#     print(row)\n",
      "    \n",
      "comboData.to_csv('comboData.csv')"
     ],
     "language": "python",
     "metadata": {},
     "outputs": [
      {
       "output_type": "stream",
       "stream": "stdout",
       "text": [
        "3140\n"
       ]
      }
     ],
     "prompt_number": 5
    },
    {
     "cell_type": "heading",
     "level": 4,
     "metadata": {},
     "source": [
      "Now join the combined data with the MSA data on FIPS"
     ]
    },
    {
     "cell_type": "code",
     "collapsed": false,
     "input": [
      "comboWithMSA = comboData.merge(msaData, on='FIPS', how='inner')\n",
      "# toDelete = ['Total Population.1','Total Population.2','Unnamed: 4','FIPS_em','State (FIPS)']\n",
      "# for d in toDelete:\n",
      "#     del comboData[d]\n",
      "# comboWithMSA.to_csv('comboWithMSA.csv')\n",
      "comboWithMSA = comboWithMSA.dropna()"
     ],
     "language": "python",
     "metadata": {},
     "outputs": [],
     "prompt_number": 6
    },
    {
     "cell_type": "code",
     "collapsed": false,
     "input": [
      "print(len(comboWithMSA))\n",
      "# print comboWithMSA\n",
      "# for row in comboWithMSA[:1].iterrows():\n",
      "#     row = row[1]\n",
      "#     print(row)"
     ],
     "language": "python",
     "metadata": {},
     "outputs": [
      {
       "output_type": "stream",
       "stream": "stdout",
       "text": [
        "1128\n"
       ]
      }
     ],
     "prompt_number": 7
    },
    {
     "cell_type": "heading",
     "level": 4,
     "metadata": {},
     "source": [
      "Now aggregate the data by MSA"
     ]
    },
    {
     "cell_type": "code",
     "collapsed": false,
     "input": [
      "msa = {}\n",
      "summable = [\n",
      "'Aggregate household income In 1999 Dollars',\n",
      "'Airborne',\n",
      "'Aircraft',\n",
      "'Area Total',\n",
      "'Cement',\n",
      "'Commercial',\n",
      "'Housing units',\n",
      "'Industrial',\n",
      "'Nonroad',\n",
      "'Occupied Housing Units',\n",
      "'Occupied Housing Units: House Heating Fuel: Coal, coke or Wood',\n",
      "'Occupied Housing Units: House Heating Fuel: Electricity',\n",
      "'Occupied Housing Units: House Heating Fuel: Fuel oil, kerosene, etc.',\n",
      "'Occupied Housing Units: House Heating Fuel: Gas (Utility, Bottled, tank, or LP gas)',\n",
      "'Occupied Housing Units: House Heating Fuel: No fuel used',\n",
      "'Occupied Housing Units: House Heating Fuel: Other fuel',\n",
      "'Occupied Housing Units: House Heating Fuel: Solar energy',\n",
      "'Onroad',\n",
      "'Residential',\n",
      "'Rural',\n",
      "'Total Emissions',\n",
      "'Total Population',\n",
      "'Urban']\n",
      "\n",
      "for row in comboWithMSA.iterrows():\n",
      "    row = row[1]\n",
      "    key = row['CBSA Code']\n",
      "    if key in msa:\n",
      "        for s in summable:\n",
      "            msa[key][s] += float(row[s])\n",
      "    else:\n",
      "        msa[key] = defaultdict(int)\n",
      "        for s in summable:\n",
      "            msa[key][s] += float(row[s])\n",
      "            \n",
      "    msa[key]['MSA'] = row['MSA']\n",
      "    msa[key]['CBSA Code'] = key\n",
      "   \n",
      "# cnt = 0    \n",
      "# msa2 = {}\n",
      "# for k,v in msa.iteritems():\n",
      "#     msa2[cnt] = v\n",
      "#     cnt += 1"
     ],
     "language": "python",
     "metadata": {},
     "outputs": [],
     "prompt_number": 8
    },
    {
     "cell_type": "heading",
     "level": 4,
     "metadata": {},
     "source": [
      "Select a subset of the total MSAs"
     ]
    },
    {
     "cell_type": "code",
     "collapsed": false,
     "input": [
      "df = pd.DataFrame(msa, dtype=np.float64)\n",
      "df = df.transpose().dropna()\n",
      "df_total = df.copy()\n",
      "df = df_total[df_total['Total Population'] >= 100000]\n",
      "\n",
      "tmp1, tmp2 = df['MSA'], df['CBSA Code']\n",
      "df = df[summable].astype(float)\n",
      "df['MSA'], df['CBSA Code'] = tmp1, tmp2\n",
      "# print df.dtypes\n",
      "df.to_csv('msa.csv')"
     ],
     "language": "python",
     "metadata": {},
     "outputs": [],
     "prompt_number": 9
    },
    {
     "cell_type": "heading",
     "level": 4,
     "metadata": {},
     "source": [
      "Do some testing"
     ]
    },
    {
     "cell_type": "code",
     "collapsed": false,
     "input": [
      "# print df"
     ],
     "language": "python",
     "metadata": {},
     "outputs": [],
     "prompt_number": 10
    },
    {
     "cell_type": "heading",
     "level": 4,
     "metadata": {},
     "source": [
      "Calculate some derived values"
     ]
    },
    {
     "cell_type": "code",
     "collapsed": false,
     "input": [
      "df['Co2 in Millions'] = df['Total Emissions']*1000000\n",
      "df['co2_per_capita'] = df['Co2 in Millions']/df['Total Population']\n",
      "df['income_per_capita'] = df['Aggregate household income In 1999 Dollars']/df['Total Population']\n",
      "df['density'] = df['Total Population']/df['Area Total']\n",
      "df['% Urban'] = df['Urban']/df['Total Population']"
     ],
     "language": "python",
     "metadata": {},
     "outputs": [],
     "prompt_number": 11
    },
    {
     "cell_type": "code",
     "collapsed": false,
     "input": [
      "print len(df)\n",
      "print len(df_total)\n",
      "# print df.dtypes"
     ],
     "language": "python",
     "metadata": {},
     "outputs": [
      {
       "output_type": "stream",
       "stream": "stdout",
       "text": [
        "334\n",
        "378\n"
       ]
      }
     ],
     "prompt_number": 12
    },
    {
     "cell_type": "heading",
     "level": 3,
     "metadata": {},
     "source": [
      "Scatter Matrix Overview"
     ]
    },
    {
     "cell_type": "code",
     "collapsed": false,
     "input": [
      "scatterFields = [\n",
      "'income_per_capita',\n",
      "'density',\n",
      "'co2_per_capita',\n",
      "# 'Area Total',\n",
      "# 'Housing units',\n",
      "# 'Occupied Housing Units',\n",
      "# 'Occupied Housing Units: House Heating Fuel: Coal, coke or Wood',\n",
      "# 'Occupied Housing Units: House Heating Fuel: Electricity',\n",
      "# 'Occupied Housing Units: House Heating Fuel: Fuel oil, kerosene, etc.',\n",
      "# 'Occupied Housing Units: House Heating Fuel: Gas (Utility, Bottled, tank, or LP gas)',\n",
      "# 'Occupied Housing Units: House Heating Fuel: Solar energy',\n",
      "'Total Emissions',\n",
      "'Total Population',\n",
      "'% Urban']\n",
      "# pd.scatter_matrix(df[scatterFields], figsize=(15, 15), diagonal='kde')"
     ],
     "language": "python",
     "metadata": {},
     "outputs": [],
     "prompt_number": 13
    },
    {
     "cell_type": "heading",
     "level": 3,
     "metadata": {},
     "source": [
      "Total Co2 Relationships"
     ]
    },
    {
     "cell_type": "heading",
     "level": 4,
     "metadata": {},
     "source": [
      "Total Co2 vs Population"
     ]
    },
    {
     "cell_type": "code",
     "collapsed": false,
     "input": [
      "fig = plt.figure()\n",
      "ax = fig.add_subplot(111)\n",
      "\n",
      "x = np.log(df['Total Population'])\n",
      "X = sm.add_constant(x)\n",
      "y = np.log(df['Co2 in Millions'])\n",
      "\n",
      "model = sm.OLS(y,X)\n",
      "result = model.fit()\n",
      "m = result.params[1]\n",
      "b = result.params[0]\n",
      "f = lambda v: b + m*v\n",
      "print m\n",
      "\n",
      "ax.set_title('Co2 Emissions vs. Population')\n",
      "ax.set_ylabel('log( Tonnes Co2 )')\n",
      "ax.set_xlabel('log( Population )')\n",
      "ax.plot(x, y, 'o', x, f(x), '-r')\n",
      "plt.show()\n",
      "\n",
      "print result.summary()"
     ],
     "language": "python",
     "metadata": {},
     "outputs": [
      {
       "output_type": "stream",
       "stream": "stdout",
       "text": [
        "0.914300653442\n"
       ]
      },
      {
       "metadata": {},
       "output_type": "display_data",
       "png": "[encoded data removed]",
       "text": [
        "<matplotlib.figure.Figure at 0x1b780780>"
       ]
      },
      {
       "output_type": "stream",
       "stream": "stdout",
       "text": [
        "                            OLS Regression Results                            \n",
        "==============================================================================\n",
        "Dep. Variable:        Co2 in Millions   R-squared:                       0.668\n",
        "Model:                            OLS   Adj. R-squared:                  0.667\n",
        "Method:                 Least Squares   F-statistic:                     667.8\n",
        "Date:                Mon, 24 Nov 2014   Prob (F-statistic):           1.78e-81\n",
        "Time:                        23:43:27   Log-Likelihood:                -336.45\n",
        "No. Observations:                 334   AIC:                             676.9\n",
        "Df Residuals:                     332   BIC:                             684.5\n",
        "Df Model:                           1                                         \n",
        "Covariance Type:            nonrobust                                         \n",
        "====================================================================================\n",
        "                       coef    std err          t      P>|t|      [95.0% Conf. Int.]\n",
        "------------------------------------------------------------------------------------\n",
        "const                2.6560      0.451      5.895      0.000         1.770     3.542\n",
        "Total Population     0.9143      0.035     25.842      0.000         0.845     0.984\n",
        "==============================================================================\n",
        "Omnibus:                       74.636   Durbin-Watson:                   1.945\n",
        "Prob(Omnibus):                  0.000   Jarque-Bera (JB):              126.965\n",
        "Skew:                           1.279   Prob(JB):                     2.69e-28\n",
        "Kurtosis:                       4.607   Cond. No.                         159.\n",
        "==============================================================================\n",
        "\n",
        "Warnings:\n",
        "[1] Standard Errors assume that the covariance matrix of the errors is correctly specified.\n"
       ]
      }
     ],
     "prompt_number": 49
    },
    {
     "cell_type": "heading",
     "level": 3,
     "metadata": {},
     "source": [
      "Per Capita Co2 Relationships"
     ]
    },
    {
     "cell_type": "heading",
     "level": 4,
     "metadata": {},
     "source": [
      "CO2 Per Capita vs Population"
     ]
    },
    {
     "cell_type": "code",
     "collapsed": false,
     "input": [
      "# fig = plt.figure()\n",
      "# ax = fig.add_subplot(111)\n",
      "fig, ax = plt.subplots()\n",
      "\n",
      "x = np.log(df['Total Population'])\n",
      "X = sm.add_constant(x)\n",
      "y = np.log(df['co2_per_capita'])\n",
      "\n",
      "model = sm.OLS(y,X)\n",
      "result = model.fit()\n",
      "m = result.params[1]\n",
      "b = result.params[0]\n",
      "f = lambda v: b + m*v\n",
      "\n",
      "ax.plot(x, y, 'o', x, f(x), '-r')\n",
      "\n",
      "\n",
      "\n",
      "ax.set_title('Co2 Emissions per Capita vs. Population')\n",
      "ax.set_ylabel('log( Tonnes Co2 per Capita)')\n",
      "ax.set_xlabel('log( Population )')\n",
      "\n",
      "\n",
      "# col = ax.scatter(x, y, picker=True)\n",
      "#fig.savefig('pscoll.eps')\n",
      "# fig.canvas.mpl_connect('pick_event', onpick3)\n",
      "plt.show()\n",
      "\n",
      "\n",
      "print result.summary()"
     ],
     "language": "python",
     "metadata": {},
     "outputs": [
      {
       "metadata": {},
       "output_type": "display_data",
       "png": "[encoded data removed]",
       "text": [
        "<matplotlib.figure.Figure at 0x17c1bba8>"
       ]
      },
      {
       "output_type": "stream",
       "stream": "stdout",
       "text": [
        "                            OLS Regression Results                            \n",
        "==============================================================================\n",
        "Dep. Variable:         co2_per_capita   R-squared:                       0.017\n",
        "Model:                            OLS   Adj. R-squared:                  0.014\n",
        "Method:                 Least Squares   F-statistic:                     5.867\n",
        "Date:                Tue, 25 Nov 2014   Prob (F-statistic):             0.0160\n",
        "Time:                        02:54:00   Log-Likelihood:                -336.45\n",
        "No. Observations:                 334   AIC:                             676.9\n",
        "Df Residuals:                     332   BIC:                             684.5\n",
        "Df Model:                           1                                         \n",
        "Covariance Type:            nonrobust                                         \n",
        "====================================================================================\n",
        "                       coef    std err          t      P>|t|      [95.0% Conf. Int.]\n",
        "------------------------------------------------------------------------------------\n",
        "const                2.6560      0.451      5.895      0.000         1.770     3.542\n",
        "Total Population    -0.0857      0.035     -2.422      0.016        -0.155    -0.016\n",
        "==============================================================================\n",
        "Omnibus:                       74.636   Durbin-Watson:                   1.945\n",
        "Prob(Omnibus):                  0.000   Jarque-Bera (JB):              126.965\n",
        "Skew:                           1.279   Prob(JB):                     2.69e-28\n",
        "Kurtosis:                       4.607   Cond. No.                         159.\n",
        "==============================================================================\n",
        "\n",
        "Warnings:\n",
        "[1] Standard Errors assume that the covariance matrix of the errors is correctly specified.\n"
       ]
      }
     ],
     "prompt_number": 64
    },
    {
     "cell_type": "heading",
     "level": 4,
     "metadata": {},
     "source": [
      "CO2 per Capita vs Density"
     ]
    },
    {
     "cell_type": "code",
     "collapsed": false,
     "input": [
      "for row in df.iterrows():\n",
      "    row = row[1]\n",
      "    carbon = row['co2_per_capita']\n",
      "    name = row['MSA']\n",
      "    if(carbon) > 30:\n",
      "        print(carbon,name) "
     ],
     "language": "python",
     "metadata": {},
     "outputs": [
      {
       "output_type": "stream",
       "stream": "stdout",
       "text": [
        "(74.28600406938426, 'Farmington, NM (Metropolitan Statistical Area)')\n",
        "(48.41962729023384, 'Flagstaff, AZ (Metropolitan Statistical Area)')\n",
        "(34.53345165939789, 'Homosassa Springs, FL (Metropolitan Statistical Area)')\n",
        "(32.15523870784427, 'Lake Charles, LA (Metropolitan Statistical Area)')\n",
        "(31.01250064934396, 'Longview, TX (Metropolitan Statistical Area)')\n",
        "(36.63114460790023, 'Monroe, MI (Metropolitan Statistical Area)')\n",
        "(47.218938985103556, 'Pine Bluff, AR (Metropolitan Statistical Area)')\n",
        "(34.268765597304366, 'Terre Haute, IN (Metropolitan Statistical Area)')\n",
        "(50.92843901808981, 'Weirton-Steubenville, WV-OH (Metropolitan Statistical Area)')\n"
       ]
      }
     ],
     "prompt_number": 52
    },
    {
     "cell_type": "code",
     "collapsed": false,
     "input": [
      "fig = plt.figure()\n",
      "ax = fig.add_subplot(111)\n",
      "\n",
      "x = np.log(df['density'])\n",
      "X = sm.add_constant(x)\n",
      "# y = df['co2_per_capita']\n",
      "y = np.log(df['Co2 in Millions'])\n",
      "\n",
      "model = sm.OLS(y,X)\n",
      "result = model.fit()\n",
      "m = result.params[1]\n",
      "b = result.params[0]\n",
      "f = lambda v: b + m*v\n",
      "\n",
      "ax.set_title('Co2 Emissions vs. Density')\n",
      "ax.set_ylabel('log( Tonnes Co2 )')\n",
      "ax.set_xlabel('log( Pop. per sq. mile )')\n",
      "\n",
      "ax.plot(x, y, 'o', x, f(x), '-r')\n",
      "\n",
      "print result.summary()"
     ],
     "language": "python",
     "metadata": {},
     "outputs": [
      {
       "output_type": "stream",
       "stream": "stdout",
       "text": [
        "                            OLS Regression Results                            \n",
        "==============================================================================\n",
        "Dep. Variable:        Co2 in Millions   R-squared:                       0.180\n",
        "Model:                            OLS   Adj. R-squared:                  0.178\n",
        "Method:                 Least Squares   F-statistic:                     72.94\n",
        "Date:                Mon, 24 Nov 2014   Prob (F-statistic):           4.89e-16\n",
        "Time:                        23:46:50   Log-Likelihood:                -487.39\n",
        "No. Observations:                 334   AIC:                             978.8\n",
        "Df Residuals:                     332   BIC:                             986.4\n",
        "Df Model:                           1                                         \n",
        "Covariance Type:            nonrobust                                         \n",
        "==============================================================================\n",
        "                 coef    std err          t      P>|t|      [95.0% Conf. Int.]\n",
        "------------------------------------------------------------------------------\n",
        "const         11.4120      0.338     33.717      0.000        10.746    12.078\n",
        "density        0.5613      0.066      8.541      0.000         0.432     0.691\n",
        "==============================================================================\n",
        "Omnibus:                       15.632   Durbin-Watson:                   1.997\n",
        "Prob(Omnibus):                  0.000   Jarque-Bera (JB):               10.929\n",
        "Skew:                           0.323   Prob(JB):                      0.00423\n",
        "Kurtosis:                       2.393   Cond. No.                         31.6\n",
        "==============================================================================\n",
        "\n",
        "Warnings:\n",
        "[1] Standard Errors assume that the covariance matrix of the errors is correctly specified.\n"
       ]
      },
      {
       "metadata": {},
       "output_type": "display_data",
       "png": "[encoded data removed]",
       "text": [
        "<matplotlib.figure.Figure at 0x18d01f60>"
       ]
      }
     ],
     "prompt_number": 59
    },
    {
     "cell_type": "heading",
     "level": 4,
     "metadata": {},
     "source": [
      "Co2 vs % Urban "
     ]
    },
    {
     "cell_type": "code",
     "collapsed": false,
     "input": [
      "fig = plt.figure()\n",
      "ax = fig.add_subplot(111)\n",
      "\n",
      "x = np.log(df['% Urban'])\n",
      "X = sm.add_constant(x)\n",
      "y = np.log(df['Co2 in Millions'])\n",
      "\n",
      "model = sm.OLS(y,X)\n",
      "result = model.fit()\n",
      "m = result.params[1]\n",
      "b = result.params[0]\n",
      "f = lambda v: b + m*v\n",
      "\n",
      "ax.set_title('Co2 Emissions vs. Proportion Urban Population')\n",
      "ax.set_ylabel('log( Tonnes Co2 )')\n",
      "ax.set_xlabel('log( Proportion of population designated \\'Urban\\' )')\n",
      "\n",
      "ax.plot(x, y, 'o', x, f(x), '-r')\n",
      "\n",
      "print result.summary()"
     ],
     "language": "python",
     "metadata": {},
     "outputs": [
      {
       "output_type": "stream",
       "stream": "stdout",
       "text": [
        "                            OLS Regression Results                            \n",
        "==============================================================================\n",
        "Dep. Variable:        Co2 in Millions   R-squared:                       0.152\n",
        "Model:                            OLS   Adj. R-squared:                  0.149\n",
        "Method:                 Least Squares   F-statistic:                     59.50\n",
        "Date:                Mon, 24 Nov 2014   Prob (F-statistic):           1.44e-13\n",
        "Time:                        23:48:56   Log-Likelihood:                -493.03\n",
        "No. Observations:                 334   AIC:                             990.1\n",
        "Df Residuals:                     332   BIC:                             997.7\n",
        "Df Model:                           1                                         \n",
        "Covariance Type:            nonrobust                                         \n",
        "==============================================================================\n",
        "                 coef    std err          t      P>|t|      [95.0% Conf. Int.]\n",
        "------------------------------------------------------------------------------\n",
        "const         14.9968      0.112    134.298      0.000        14.777    15.216\n",
        "% Urban        2.4402      0.316      7.714      0.000         1.818     3.062\n",
        "==============================================================================\n",
        "Omnibus:                       20.482   Durbin-Watson:                   2.121\n",
        "Prob(Omnibus):                  0.000   Jarque-Bera (JB):               15.099\n",
        "Skew:                           0.413   Prob(JB):                     0.000526\n",
        "Kurtosis:                       2.367   Cond. No.                         5.95\n",
        "==============================================================================\n",
        "\n",
        "Warnings:\n",
        "[1] Standard Errors assume that the covariance matrix of the errors is correctly specified.\n"
       ]
      },
      {
       "metadata": {},
       "output_type": "display_data",
       "png": "[encoded data removed]",
       "text": [
        "<matplotlib.figure.Figure at 0x19770240>"
       ]
      }
     ],
     "prompt_number": 61
    },
    {
     "cell_type": "code",
     "collapsed": false,
     "input": [
      "fig = plt.figure()\n",
      "ax = fig.add_subplot(111)\n",
      "\n",
      "x = np.log(df['income_per_capita'])\n",
      "X = sm.add_constant(x)\n",
      "y = np.log(df['Co2 in Millions'])\n",
      "\n",
      "model = sm.OLS(y,X)\n",
      "result = model.fit()\n",
      "m = result.params[1]\n",
      "b = result.params[0]\n",
      "f = lambda v: b + m*v\n",
      "\n",
      "ax.set_title('Co2 Emissions vs. Per Capita Income')\n",
      "ax.set_ylabel('log( Tonnes Co2 )')\n",
      "ax.set_xlabel('log( Income per Capita (1999 dollars) )')\n",
      "\n",
      "ax.plot(x, y, 'o', x, f(x), '-r')\n",
      "\n",
      "print result.summary()"
     ],
     "language": "python",
     "metadata": {},
     "outputs": [
      {
       "output_type": "stream",
       "stream": "stdout",
       "text": [
        "                            OLS Regression Results                            \n",
        "==============================================================================\n",
        "Dep. Variable:        Co2 in Millions   R-squared:                       0.143\n",
        "Model:                            OLS   Adj. R-squared:                  0.140\n",
        "Method:                 Least Squares   F-statistic:                     55.29\n",
        "Date:                Mon, 24 Nov 2014   Prob (F-statistic):           8.93e-13\n",
        "Time:                        23:51:16   Log-Likelihood:                -494.83\n",
        "No. Observations:                 334   AIC:                             993.7\n",
        "Df Residuals:                     332   BIC:                             1001.\n",
        "Df Model:                           1                                         \n",
        "Covariance Type:            nonrobust                                         \n",
        "=====================================================================================\n",
        "                        coef    std err          t      P>|t|      [95.0% Conf. Int.]\n",
        "-------------------------------------------------------------------------------------\n",
        "const               -10.4733      3.327     -3.148      0.002       -17.018    -3.929\n",
        "income_per_capita     2.5072      0.337      7.436      0.000         1.844     3.170\n",
        "==============================================================================\n",
        "Omnibus:                       16.508   Durbin-Watson:                   2.009\n",
        "Prob(Omnibus):                  0.000   Jarque-Bera (JB):               14.002\n",
        "Skew:                           0.423   Prob(JB):                     0.000911\n",
        "Kurtosis:                       2.460   Cond. No.                         568.\n",
        "==============================================================================\n",
        "\n",
        "Warnings:\n",
        "[1] Standard Errors assume that the covariance matrix of the errors is correctly specified.\n"
       ]
      },
      {
       "metadata": {},
       "output_type": "display_data",
       "png": "[encoded data removed]",
       "text": [
        "<matplotlib.figure.Figure at 0x17c1bf60>"
       ]
      }
     ],
     "prompt_number": 63
    },
    {
     "cell_type": "heading",
     "level": 4,
     "metadata": {},
     "source": [
      "Co2 per Capita vs Total Area "
     ]
    },
    {
     "cell_type": "code",
     "collapsed": false,
     "input": [
      "fig = plt.figure()\n",
      "ax = fig.add_subplot(111)\n",
      "\n",
      "x = pd.DataFrame()\n",
      "x['log pop'] = np.log(df['Total Population'])\n",
      "x['log density'] = np.log(df['density'])\n",
      "x['% Urban'] = df['% Urban']\n",
      "X = sm.add_constant(x)\n",
      "y = np.log(df['Total Emissions'])\n",
      "\n",
      "\n",
      "print pearsonr(x['log pop'], x['log density'])\n",
      "print pearsonr(x['log pop'], x['% Urban'])\n",
      "print pearsonr(x['log density'], x['% Urban'])\n",
      "\n",
      "model = sm.OLS(y,X)\n",
      "result = model.fit()\n",
      "m = result.params[1]\n",
      "b = result.params[0]\n",
      "f = lambda v: b + m*v\n",
      "\n",
      "# ax.plot(x, y, 'o', x, f(x), '-r')\n",
      "\n",
      "print(result.summary())"
     ],
     "language": "python",
     "metadata": {},
     "outputs": [
      {
       "output_type": "stream",
       "stream": "stdout",
       "text": [
        "(0.62871983946066767, 3.7810230250090938e-38)\n",
        "(0.61625315839758454, 2.5893080121286473e-36)\n",
        "(0.42513518241644532, 4.3134720011310536e-16)\n",
        "                            OLS Regression Results                            \n",
        "==============================================================================\n",
        "Dep. Variable:        Total Emissions   R-squared:                       0.695\n",
        "Model:                            OLS   Adj. R-squared:                  0.692\n",
        "Method:                 Least Squares   F-statistic:                     250.9\n",
        "Date:                Mon, 24 Nov 2014   Prob (F-statistic):           8.69e-85\n",
        "Time:                        23:03:28   Log-Likelihood:                -322.13\n",
        "No. Observations:                 334   AIC:                             652.3\n",
        "Df Residuals:                     330   BIC:                             667.5\n",
        "Df Model:                           3                                         \n",
        "Covariance Type:            nonrobust                                         \n",
        "===============================================================================\n",
        "                  coef    std err          t      P>|t|      [95.0% Conf. Int.]\n",
        "-------------------------------------------------------------------------------\n",
        "const         -11.7933      0.448    -26.299      0.000       -12.675   -10.911\n",
        "log pop         1.1157      0.050     22.163      0.000         1.017     1.215\n",
        "log density    -0.1831      0.052     -3.537      0.000        -0.285    -0.081\n",
        "% Urban        -1.3213      0.338     -3.904      0.000        -1.987    -0.655\n",
        "==============================================================================\n",
        "Omnibus:                       61.620   Durbin-Watson:                   2.005\n",
        "Prob(Omnibus):                  0.000   Jarque-Bera (JB):               94.233\n",
        "Skew:                           1.133   Prob(JB):                     3.45e-21\n",
        "Kurtosis:                       4.279   Cond. No.                         181.\n",
        "==============================================================================\n",
        "\n",
        "Warnings:\n",
        "[1] Standard Errors assume that the covariance matrix of the errors is correctly specified.\n"
       ]
      }
     ],
     "prompt_number": 20
    },
    {
     "cell_type": "heading",
     "level": 2,
     "metadata": {},
     "source": [
      "Now lets mess with the county data"
     ]
    },
    {
     "cell_type": "code",
     "collapsed": false,
     "input": [
      "fig = plt.figure()\n",
      "ax = fig.add_subplot(111)\n",
      "\n",
      "x = np.log(comboData['Total Population'])\n",
      "X = sm.add_constant(x)\n",
      "y = np.log(comboData['Total Emissions'])\n",
      "\n",
      "model = sm.OLS(y,X)\n",
      "result = model.fit()\n",
      "m = result.params[1]\n",
      "b = result.params[0]\n",
      "f = lambda v: b + m*v\n",
      "\n",
      "ax.plot(x, y, 'o', x, f(x), '-r')\n",
      "\n",
      "print result.summary()"
     ],
     "language": "python",
     "metadata": {},
     "outputs": [
      {
       "output_type": "stream",
       "stream": "stdout",
       "text": [
        "                            OLS Regression Results                            \n",
        "==============================================================================\n",
        "Dep. Variable:        Total Emissions   R-squared:                       0.677\n",
        "Model:                            OLS   Adj. R-squared:                  0.677\n",
        "Method:                 Least Squares   F-statistic:                     6582.\n",
        "Date:                Mon, 24 Nov 2014   Prob (F-statistic):               0.00\n",
        "Time:                        23:03:29   Log-Likelihood:                -3996.8\n",
        "No. Observations:                3140   AIC:                             7998.\n",
        "Df Residuals:                    3138   BIC:                             8010.\n",
        "Df Model:                           1                                         \n",
        "Covariance Type:            nonrobust                                         \n",
        "====================================================================================\n",
        "                       coef    std err          t      P>|t|      [95.0% Conf. Int.]\n",
        "------------------------------------------------------------------------------------\n",
        "const              -11.0255      0.113    -97.723      0.000       -11.247   -10.804\n",
        "Total Population     0.8869      0.011     81.129      0.000         0.865     0.908\n",
        "==============================================================================\n",
        "Omnibus:                     1384.781   Durbin-Watson:                   1.837\n",
        "Prob(Omnibus):                  0.000   Jarque-Bera (JB):             6476.042\n",
        "Skew:                           2.133   Prob(JB):                         0.00\n",
        "Kurtosis:                       8.595   Cond. No.                         76.2\n",
        "==============================================================================\n",
        "\n",
        "Warnings:\n",
        "[1] Standard Errors assume that the covariance matrix of the errors is correctly specified.\n"
       ]
      }
     ],
     "prompt_number": 21
    },
    {
     "cell_type": "heading",
     "level": 4,
     "metadata": {},
     "source": []
    },
    {
     "cell_type": "code",
     "collapsed": false,
     "input": [
      "fig = plt.figure()\n",
      "ax = fig.add_subplot(111)\n",
      "\n",
      "x = np.log(comboData['Total Population'])\n",
      "X = sm.add_constant(x)\n",
      "y = np.log(comboData['Total Emissions'])\n",
      "\n",
      "model = sm.OLS(y,X)\n",
      "result = model.fit()\n",
      "m = result.params[1]\n",
      "b = result.params[0]\n",
      "f = lambda v: b + m*v\n",
      "\n",
      "ax.plot(x, y, 'o', x, f(x), '-r')\n",
      "\n",
      "print result.summary()"
     ],
     "language": "python",
     "metadata": {},
     "outputs": [
      {
       "output_type": "stream",
       "stream": "stdout",
       "text": [
        "                            OLS Regression Results                            \n",
        "==============================================================================\n",
        "Dep. Variable:        Total Emissions   R-squared:                       0.677\n",
        "Model:                            OLS   Adj. R-squared:                  0.677\n",
        "Method:                 Least Squares   F-statistic:                     6582.\n",
        "Date:                Mon, 24 Nov 2014   Prob (F-statistic):               0.00\n",
        "Time:                        23:03:29   Log-Likelihood:                -3996.8\n",
        "No. Observations:                3140   AIC:                             7998.\n",
        "Df Residuals:                    3138   BIC:                             8010.\n",
        "Df Model:                           1                                         \n",
        "Covariance Type:            nonrobust                                         \n",
        "====================================================================================\n",
        "                       coef    std err          t      P>|t|      [95.0% Conf. Int.]\n",
        "------------------------------------------------------------------------------------\n",
        "const              -11.0255      0.113    -97.723      0.000       -11.247   -10.804\n",
        "Total Population     0.8869      0.011     81.129      0.000         0.865     0.908\n",
        "==============================================================================\n",
        "Omnibus:                     1384.781   Durbin-Watson:                   1.837\n",
        "Prob(Omnibus):                  0.000   Jarque-Bera (JB):             6476.042\n",
        "Skew:                           2.133   Prob(JB):                         0.00\n",
        "Kurtosis:                       8.595   Cond. No.                         76.2\n",
        "==============================================================================\n",
        "\n",
        "Warnings:\n",
        "[1] Standard Errors assume that the covariance matrix of the errors is correctly specified.\n"
       ]
      }
     ],
     "prompt_number": 22
    },
    {
     "cell_type": "code",
     "collapsed": false,
     "input": [],
     "language": "python",
     "metadata": {},
     "outputs": [],
     "prompt_number": 22
    },
    {
     "cell_type": "code",
     "collapsed": false,
     "input": [
      "def calcSAMI(alpha, beta, pop, emissions):\n",
      "    Y_0 = np.exp(alpha)\n",
      "    return np.log( emissions/(Y_0*(pop**beta)) )"
     ],
     "language": "python",
     "metadata": {},
     "outputs": [],
     "prompt_number": 23
    },
    {
     "cell_type": "code",
     "collapsed": false,
     "input": [
      "df['SAMIs'] = calcSAMI(2.6560, 0.9143, df['Total Population'], df['Co2 in Millions'])"
     ],
     "language": "python",
     "metadata": {},
     "outputs": [],
     "prompt_number": 24
    },
    {
     "cell_type": "code",
     "collapsed": false,
     "input": [
      "# ind = ['.']*len(df['SAMIs'])\n",
      "# print df['SAMIs']\n",
      "ls = zip(df['SAMIs'], df['MSA'])\n",
      "ls.sort(key=itemgetter(0), reverse=True)\n",
      "samis,names = zip(*ls)\n",
      "samSeries = pd.Series(data=samis)\n",
      "\n",
      "ax = samSeries.plot(kind='bar', figsize=(10,10), grid=False)\n",
      "ax.set_xlabel('Rank')\n",
      "ax.set_ylabel('SAMIs')\n",
      "ax.set_title('Scale-Adjusted Metropolitan Indicators ordered by Rank')\n",
      "\n",
      "# print samSeries.index\n",
      "s = string.split(names[0], sep=' ')[:2]\n",
      "x = [' '.join(s)]\n",
      "x.extend(['']*(len(names)-2) )\n",
      "s= string.split(names[-1], sep=' ')[:2]\n",
      "x.append(' '.join(s))\n",
      "# print x\n",
      "\n",
      "\n",
      "# ax.set_xticks(ind + width / 2, ind)\n",
      "ax.set_xticklabels(x)\n",
      "plt.show()"
     ],
     "language": "python",
     "metadata": {},
     "outputs": [
      {
       "metadata": {},
       "output_type": "display_data",
       "png": "[encoded data removed]",
       "text": [
        "<matplotlib.figure.Figure at 0x17c160b8>"
       ]
      }
     ],
     "prompt_number": 42
    },
    {
     "cell_type": "code",
     "collapsed": false,
     "input": [
      "# ind = ['.']*len(df['SAMIs'])\n",
      "# print df['SAMIs']\n",
      "ls = zip(df['SAMIs'], df['MSA'])\n",
      "ls.sort(key=itemgetter(0), reverse=True)\n",
      "samis,names = zip(*ls)\n",
      "samSeries = pd.Series(data=samis)\n",
      "\n",
      "ax = samSeries.plot(kind='hist', bins=25, figsize=(10,10), grid=False)\n",
      "ax.set_xlabel('SAMI')\n",
      "ax.set_ylabel('Count')\n",
      "ax.set_title('Histogram of Scale-Adjusted Metropolitan Indicators')\n",
      "\n",
      "# print samSeries.index\n",
      "s = string.split(names[0], sep=' ')[:2]\n",
      "x = [' '.join(s)]\n",
      "x.extend(['']*(len(names)-2) )\n",
      "s= string.split(names[-1], sep=' ')[:2]\n",
      "x.append(' '.join(s))\n",
      "# print x\n",
      "\n",
      "\n",
      "# ax.set_xticks(ind + width / 2, ind)\n",
      "# ax.set_xticklabels(x)\n",
      "plt.show()"
     ],
     "language": "python",
     "metadata": {},
     "outputs": [
      {
       "metadata": {},
       "output_type": "display_data",
       "png": "[encoded data removed]",
       "text": [
        "<matplotlib.figure.Figure at 0x19589d30>"
       ]
      }
     ],
     "prompt_number": 75
    },
    {
     "cell_type": "code",
     "collapsed": false,
     "input": [
      "# ind = ['.']*len(df['SAMIs'])\n",
      "# print df['SAMIs']\n",
      "ls = zip(df['Total Population'], df['MSA'])\n",
      "ls.sort(key=itemgetter(0), reverse=True)\n",
      "samis,names = zip(*ls)\n",
      "samSeries = pd.Series(data=samis)\n",
      "\n",
      "ax = samSeries.plot(kind='bar', figsize=(10,10), grid=False)\n",
      "ax.set_xlabel('Rank')\n",
      "ax.set_ylabel('Population')\n",
      "ax.set_title('City Size vs. Rank')\n",
      "\n",
      "# print samSeries.index\n",
      "s = string.split(names[0], sep=' ')[:2]\n",
      "x = [' '.join(s)]\n",
      "x.extend(['']*(len(names)-2) )\n",
      "s= string.split(names[-1], sep=' ')[:2]\n",
      "x.append(' '.join(s))\n",
      "# print x\n",
      "\n",
      "\n",
      "# ax.set_xticks(ind + width / 2, ind)\n",
      "ax.set_xticklabels(x)\n",
      "plt.show()"
     ],
     "language": "python",
     "metadata": {},
     "outputs": [
      {
       "metadata": {},
       "output_type": "display_data",
       "png": "[encoded data removed]",
       "text": [
        "<matplotlib.figure.Figure at 0xd6b5a90>"
       ]
      }
     ],
     "prompt_number": 68
    }
   ],
   "metadata": {}
  }
 ]
}